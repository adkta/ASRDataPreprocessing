{
  "cells": [
    {
      "cell_type": "markdown",
      "source": [
        "##SETUP"
      ],
      "metadata": {
        "id": "OLyLc_ydQQOf"
      }
    },
    {
      "cell_type": "code",
      "execution_count": null,
      "metadata": {
        "id": "qup8C8C6D7ka"
      },
      "outputs": [],
      "source": [
        "from google.colab import drive\n",
        "drive.mount('/content/drive/')"
      ]
    },
    {
      "cell_type": "code",
      "execution_count": null,
      "metadata": {
        "id": "sL27AuX1FyGf"
      },
      "outputs": [],
      "source": [
        "!rm -r /content/transliteration\n",
        "!git clone https://github.com/adkta/transliteration.git"
      ]
    },
    {
      "cell_type": "code",
      "execution_count": null,
      "metadata": {
        "id": "VxNkZfIHGtx6"
      },
      "outputs": [],
      "source": [
        "!pip install g2p_en"
      ]
    },
    {
      "cell_type": "code",
      "execution_count": null,
      "metadata": {
        "id": "mPwVSn36QYQN"
      },
      "outputs": [],
      "source": [
        "!pip install nepali-num2word"
      ]
    },
    {
      "cell_type": "code",
      "execution_count": null,
      "metadata": {
        "id": "Cp_jmTA2VJf3"
      },
      "outputs": [],
      "source": [
        "!git clone https://github.com/adkta/nepali_arabic_num_to_word.git"
      ]
    },
    {
      "cell_type": "markdown",
      "source": [
        "##GENERAL TRANSFORM LOGIC"
      ],
      "metadata": {
        "id": "Yw6SkpmSJl9c"
      }
    },
    {
      "cell_type": "code",
      "source": [
        "from typing import Callable\n",
        "\n",
        "import re\n",
        "from transliteration.transliterator import TranslitDict\n",
        "\n",
        "\n",
        "def transform_transcript(input_path: str, output_path: str, transform_fn: Callable[[str], str]) -> None:\n",
        "    tknzr_pattern = re.compile(TranslitDict.PUNCT_SPACE_REGEX)\n",
        "    with open(input_path, mode = 'r') as transcr_in, \\\n",
        "        open(output_path, mode = 'w') as transcr_out:\n",
        "        for line in transcr_in:\n",
        "            line = line.strip()\n",
        "            audio_nm, label = line.split('\\t')\n",
        "            words = tknzr_pattern.split(label)\n",
        "            numless_native_label = []\n",
        "            for word in words:\n",
        "                if not word:\n",
        "                    continue\n",
        "                numless_native_label.append(transform_fn(word))\n",
        "            print(f\"{audio_nm}\\t{' '.join(numless_native_label)}\", file=transcr_out)"
      ],
      "metadata": {
        "id": "eeXN-Ry8HlNB"
      },
      "execution_count": null,
      "outputs": []
    },
    {
      "cell_type": "markdown",
      "metadata": {
        "id": "WjMNZL_Zo-Ew"
      },
      "source": [
        "##ORIGINAL NUMLESS TRANSCRIPT\n",
        "\n",
        "1. Input original native transcript: /content/transcript.txt\n",
        "2. Output is unpunctuated numberless native transcript. /content/native_numless_punctless_transcript.txt\n",
        "\n",
        "i.e. All numerals are written in words"
      ]
    },
    {
      "cell_type": "code",
      "execution_count": null,
      "metadata": {
        "id": "H6qPIlklVAAz"
      },
      "outputs": [],
      "source": [
        "!cp '/content/drive/MyDrive/MSICE/transcript.txt' /content/"
      ]
    },
    {
      "cell_type": "code",
      "source": [
        "from nepali_arabic_num_to_word.nepali_arabic_num_to_word import numeral_type, get_word_from_numeral\n",
        "\n",
        "def num_2_word(word: str) -> str:\n",
        "    num_type = numeral_type(word)\n",
        "    if numeral_type:\n",
        "        word = get_word_from_numeral(word, num_type)\n",
        "    return word"
      ],
      "metadata": {
        "id": "2hVkFuohG9Go"
      },
      "execution_count": null,
      "outputs": []
    },
    {
      "cell_type": "code",
      "source": [
        "transform_transcript(input_path = \"/content/transcript.txt\", output_path = \"/content/native_numless_punctless_transcript.txt\", transform_fn = num_2_word)"
      ],
      "metadata": {
        "id": "8wfTKwe0HsX8"
      },
      "execution_count": null,
      "outputs": []
    },
    {
      "cell_type": "code",
      "execution_count": null,
      "metadata": {
        "id": "PtKXVOG9LOgs"
      },
      "outputs": [],
      "source": [
        "!head -20 native_numless_punctless_transcript.txt"
      ]
    },
    {
      "cell_type": "markdown",
      "metadata": {
        "id": "Ex879E4mpC6G"
      },
      "source": [
        "##CREATE REDUCTION DICTIONARY (COMBINES TRANSLITERATION AND REDUCTION)\n",
        "\n",
        "TASK 1: Create a reduction dictionary\n",
        "The input to this task is numberless native transcript file\n",
        "Output is a reduction dictionary\n",
        "\n",
        "TASK 2: Create a reduced transcript file\n",
        "The input is numberless native transcript file and reduction dictionary (if possible so the mapping can be reused)\n",
        "Output is reduced transcript file"
      ]
    },
    {
      "cell_type": "code",
      "source": [
        "# !cp '/content/drive/MyDrive/MSICE/English_Nepali_CS_Data_Manual/Transliteration Dictionary/Roman_Devanagari_Translit_Dict.json' /content/"
      ],
      "metadata": {
        "id": "eXqhCPiYw9Iy"
      },
      "execution_count": null,
      "outputs": []
    },
    {
      "cell_type": "code",
      "execution_count": null,
      "metadata": {
        "id": "MmXcvEwI3Wtd"
      },
      "outputs": [],
      "source": [
        "!head -4 /content/native_numless_punctless_transcript.txt > /content/test_transcript.txt"
      ]
    },
    {
      "cell_type": "code",
      "source": [
        "!head -4 /content/test_transcript.txt"
      ],
      "metadata": {
        "id": "bCoLcpvd-j3A"
      },
      "execution_count": null,
      "outputs": []
    },
    {
      "cell_type": "code",
      "execution_count": null,
      "metadata": {
        "id": "7zRb5Zyq3EPo"
      },
      "outputs": [],
      "source": [
        "from transliteration.transliterator import TranslitDict\n",
        "from transliteration.reducers import get_reduced_devanagari_word\n",
        "from transliteration.transliterators import RomanToDevaTransliterator\n",
        "from tqdm import tqdm\n",
        "\n",
        "import re\n",
        "\n",
        "def create_reduc_dict(input_path: str, output_path: str) -> None:\n",
        "    tknzr_pattern = re.compile(TranslitDict.PUNCT_SPACE_REGEX)\n",
        "    translitr = RomanToDevaTransliterator()\n",
        "    with open(input_path, mode = 'r') as transcr_in, \\\n",
        "        open(output_path, mode = 'w') as transcr_out:\n",
        "        for line in tqdm(transcr_in):\n",
        "            line = line.strip()\n",
        "            audio_nm, label = line.split('\\t')\n",
        "            words = tknzr_pattern.split(label)\n",
        "            numless_native_label = []\n",
        "            for word in words:\n",
        "                if not word:\n",
        "                    continue\n",
        "\n",
        "                orig_word = word\n",
        "                if translitr.for_transliteration(word):\n",
        "                    word = translitr.translit(word)\n",
        "                reduced_word = get_reduced_devanagari_word(word)\n",
        "\n",
        "                if not reduced_word or reduced_word == orig_word:\n",
        "                    continue\n",
        "\n",
        "                print(f\"{orig_word}\\t{reduced_word}\", file=transcr_out)"
      ]
    },
    {
      "cell_type": "code",
      "source": [
        "create_reduc_dict(input_path = \"/content/native_numless_punctless_transcript.txt\", output_path = \"/content/test_reduc_dict.dat\")"
      ],
      "metadata": {
        "id": "L7jcP5KVtgnN"
      },
      "execution_count": null,
      "outputs": []
    },
    {
      "cell_type": "code",
      "execution_count": null,
      "metadata": {
        "id": "C8KoJRsRV7hP"
      },
      "outputs": [],
      "source": [
        "test_reduc_dict = TranslitDict.load(src_path='/content/test_reduc_dict.dat', delimiter='\\t')"
      ]
    },
    {
      "cell_type": "code",
      "source": [
        "test_reduc_dict.export('/content/Nep_Eng_Code-Mixed_Reduct_Dict.json')"
      ],
      "metadata": {
        "id": "hq95sUuD_ogm"
      },
      "execution_count": null,
      "outputs": []
    },
    {
      "cell_type": "code",
      "source": [
        "!cp  /content/Nep_Eng_Code-Mixed_Reduct_Dict.json '/content/drive/MyDrive/MSICE/English_Nepali_CS_Data_Manual/Transliteration Dictionary/'"
      ],
      "metadata": {
        "id": "dkn7xR3fAH6-"
      },
      "execution_count": null,
      "outputs": []
    },
    {
      "cell_type": "markdown",
      "source": [
        "##CREATE REDUCED TRANSCRIPT FILE\n",
        "\n",
        "1. Inputs are transcript file, reduction dictionary\n",
        "2. Output is reduced transcript file"
      ],
      "metadata": {
        "id": "R0CSyL0vGFr2"
      }
    },
    {
      "cell_type": "code",
      "source": [
        "# !cp /content/transliteration/reducers.py /content/"
      ],
      "metadata": {
        "id": "rPBLTdJAGJSm"
      },
      "execution_count": null,
      "outputs": []
    },
    {
      "cell_type": "code",
      "source": [
        "!cp /content/drive/MyDrive/MSICE/English_Nepali_CS_Data_Manual/Transliteration\\ Dictionary/Nep_Eng_Code-Mixed_Reduct_Dict.json /content/"
      ],
      "metadata": {
        "id": "OHMix2QcMRnt"
      },
      "execution_count": null,
      "outputs": []
    },
    {
      "cell_type": "code",
      "source": [
        "def reduce(word: str) -> str:\n",
        "    reduced_word = DevanagariReducer(translit_dict='/content/Nep_Eng_Code-Mixed_Reduct_Dict.json').translit_using_dict(word)\n",
        "    if reduced_word:\n",
        "        return reduced_word\n",
        "    return word"
      ],
      "metadata": {
        "id": "tprKcr46J4ZY"
      },
      "execution_count": null,
      "outputs": []
    },
    {
      "cell_type": "code",
      "source": [
        "transform_transcript(input_path = \"/content/native_numless_punctless_transcript.txt\", output_path = \"/content/reduced_transcript.txt\", transform_fn = reduce)"
      ],
      "metadata": {
        "id": "K1RTEbE9MQrb"
      },
      "execution_count": null,
      "outputs": []
    }
  ],
  "metadata": {
    "colab": {
      "provenance": [],
      "collapsed_sections": [
        "Yw6SkpmSJl9c",
        "WjMNZL_Zo-Ew",
        "R0CSyL0vGFr2",
        "A302XFU1jSNn"
      ],
      "authorship_tag": "ABX9TyN8fZrWXPqtM9AKHtNjyN+S"
    },
    "kernelspec": {
      "display_name": "Python 3",
      "name": "python3"
    },
    "language_info": {
      "name": "python"
    }
  },
  "nbformat": 4,
  "nbformat_minor": 0
}