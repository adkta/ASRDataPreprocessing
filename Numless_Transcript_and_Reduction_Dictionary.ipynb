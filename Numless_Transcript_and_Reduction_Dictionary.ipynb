{
  "cells": [
    {
      "cell_type": "markdown",
      "source": [
        "##SETUP"
      ],
      "metadata": {
        "id": "OLyLc_ydQQOf"
      }
    },
    {
      "cell_type": "code",
      "execution_count": 1,
      "metadata": {
        "id": "qup8C8C6D7ka",
        "colab": {
          "base_uri": "https://localhost:8080/"
        },
        "outputId": "9732988c-9ee4-43d0-8c79-c55262a223da"
      },
      "outputs": [
        {
          "output_type": "stream",
          "name": "stdout",
          "text": [
            "Mounted at /content/drive/\n"
          ]
        }
      ],
      "source": [
        "from google.colab import drive\n",
        "drive.mount('/content/drive/')"
      ]
    },
    {
      "cell_type": "code",
      "execution_count": 2,
      "metadata": {
        "id": "sL27AuX1FyGf",
        "colab": {
          "base_uri": "https://localhost:8080/"
        },
        "outputId": "4d65e30a-d266-436f-aa61-524a9dbf9094"
      },
      "outputs": [
        {
          "output_type": "stream",
          "name": "stdout",
          "text": [
            "rm: cannot remove '/content/transliteration': No such file or directory\n",
            "Cloning into 'transliteration'...\n",
            "remote: Enumerating objects: 137, done.\u001b[K\n",
            "remote: Counting objects: 100% (137/137), done.\u001b[K\n",
            "remote: Compressing objects: 100% (92/92), done.\u001b[K\n",
            "remote: Total 137 (delta 74), reused 93 (delta 37), pack-reused 0 (from 0)\u001b[K\n",
            "Receiving objects: 100% (137/137), 34.34 KiB | 6.87 MiB/s, done.\n",
            "Resolving deltas: 100% (74/74), done.\n"
          ]
        }
      ],
      "source": [
        "!rm -r /content/transliteration\n",
        "!git clone https://github.com/adkta/transliteration.git"
      ]
    },
    {
      "cell_type": "code",
      "execution_count": 3,
      "metadata": {
        "id": "VxNkZfIHGtx6",
        "colab": {
          "base_uri": "https://localhost:8080/"
        },
        "outputId": "de22e146-0ca8-4593-b5a4-246cc30ed787"
      },
      "outputs": [
        {
          "output_type": "stream",
          "name": "stdout",
          "text": [
            "Collecting g2p_en\n",
            "  Downloading g2p_en-2.1.0-py3-none-any.whl.metadata (4.5 kB)\n",
            "Requirement already satisfied: numpy>=1.13.1 in /usr/local/lib/python3.12/dist-packages (from g2p_en) (2.0.2)\n",
            "Requirement already satisfied: nltk>=3.2.4 in /usr/local/lib/python3.12/dist-packages (from g2p_en) (3.9.1)\n",
            "Requirement already satisfied: inflect>=0.3.1 in /usr/local/lib/python3.12/dist-packages (from g2p_en) (7.5.0)\n",
            "Collecting distance>=0.1.3 (from g2p_en)\n",
            "  Downloading Distance-0.1.3.tar.gz (180 kB)\n",
            "\u001b[2K     \u001b[90m━━━━━━━━━━━━━━━━━━━━━━━━━━━━━━━━━━━━━━\u001b[0m \u001b[32m180.3/180.3 kB\u001b[0m \u001b[31m12.6 MB/s\u001b[0m eta \u001b[36m0:00:00\u001b[0m\n",
            "\u001b[?25h  Preparing metadata (setup.py) ... \u001b[?25l\u001b[?25hdone\n",
            "Requirement already satisfied: more_itertools>=8.5.0 in /usr/local/lib/python3.12/dist-packages (from inflect>=0.3.1->g2p_en) (10.8.0)\n",
            "Requirement already satisfied: typeguard>=4.0.1 in /usr/local/lib/python3.12/dist-packages (from inflect>=0.3.1->g2p_en) (4.4.4)\n",
            "Requirement already satisfied: click in /usr/local/lib/python3.12/dist-packages (from nltk>=3.2.4->g2p_en) (8.3.0)\n",
            "Requirement already satisfied: joblib in /usr/local/lib/python3.12/dist-packages (from nltk>=3.2.4->g2p_en) (1.5.2)\n",
            "Requirement already satisfied: regex>=2021.8.3 in /usr/local/lib/python3.12/dist-packages (from nltk>=3.2.4->g2p_en) (2024.11.6)\n",
            "Requirement already satisfied: tqdm in /usr/local/lib/python3.12/dist-packages (from nltk>=3.2.4->g2p_en) (4.67.1)\n",
            "Requirement already satisfied: typing_extensions>=4.14.0 in /usr/local/lib/python3.12/dist-packages (from typeguard>=4.0.1->inflect>=0.3.1->g2p_en) (4.15.0)\n",
            "Downloading g2p_en-2.1.0-py3-none-any.whl (3.1 MB)\n",
            "\u001b[2K   \u001b[90m━━━━━━━━━━━━━━━━━━━━━━━━━━━━━━━━━━━━━━━━\u001b[0m \u001b[32m3.1/3.1 MB\u001b[0m \u001b[31m100.2 MB/s\u001b[0m eta \u001b[36m0:00:00\u001b[0m\n",
            "\u001b[?25hBuilding wheels for collected packages: distance\n",
            "  Building wheel for distance (setup.py) ... \u001b[?25l\u001b[?25hdone\n",
            "  Created wheel for distance: filename=Distance-0.1.3-py3-none-any.whl size=16256 sha256=0cadefe70a6782e5d90dd5b59bd210162a7d0604676d2a395f7a2e55cf9e8a94\n",
            "  Stored in directory: /root/.cache/pip/wheels/24/a8/58/407063d8e5c1d4dd6594c99d12baa0108570b56a92325587dd\n",
            "Successfully built distance\n",
            "Installing collected packages: distance, g2p_en\n",
            "Successfully installed distance-0.1.3 g2p_en-2.1.0\n"
          ]
        }
      ],
      "source": [
        "!pip install g2p_en"
      ]
    },
    {
      "cell_type": "code",
      "execution_count": 4,
      "metadata": {
        "id": "mPwVSn36QYQN",
        "colab": {
          "base_uri": "https://localhost:8080/"
        },
        "outputId": "4557c950-3986-41cc-bea0-62ce4eebb163"
      },
      "outputs": [
        {
          "output_type": "stream",
          "name": "stdout",
          "text": [
            "Collecting nepali-num2word\n",
            "  Downloading nepali_num2word-0.2.3-py3-none-any.whl.metadata (12 kB)\n",
            "Downloading nepali_num2word-0.2.3-py3-none-any.whl (14 kB)\n",
            "Installing collected packages: nepali-num2word\n",
            "Successfully installed nepali-num2word-0.2.3\n"
          ]
        }
      ],
      "source": [
        "!pip install nepali-num2word"
      ]
    },
    {
      "cell_type": "code",
      "execution_count": 5,
      "metadata": {
        "id": "Cp_jmTA2VJf3",
        "colab": {
          "base_uri": "https://localhost:8080/"
        },
        "outputId": "69c1b3ef-5efe-4248-cbba-4dbd426bffb0"
      },
      "outputs": [
        {
          "output_type": "stream",
          "name": "stdout",
          "text": [
            "Cloning into 'nepali_arabic_num_to_word'...\n",
            "remote: Enumerating objects: 15, done.\u001b[K\n",
            "remote: Counting objects:   6% (1/15)\u001b[K\rremote: Counting objects:  13% (2/15)\u001b[K\rremote: Counting objects:  20% (3/15)\u001b[K\rremote: Counting objects:  26% (4/15)\u001b[K\rremote: Counting objects:  33% (5/15)\u001b[K\rremote: Counting objects:  40% (6/15)\u001b[K\rremote: Counting objects:  46% (7/15)\u001b[K\rremote: Counting objects:  53% (8/15)\u001b[K\rremote: Counting objects:  60% (9/15)\u001b[K\rremote: Counting objects:  66% (10/15)\u001b[K\rremote: Counting objects:  73% (11/15)\u001b[K\rremote: Counting objects:  80% (12/15)\u001b[K\rremote: Counting objects:  86% (13/15)\u001b[K\rremote: Counting objects:  93% (14/15)\u001b[K\rremote: Counting objects: 100% (15/15)\u001b[K\rremote: Counting objects: 100% (15/15), done.\u001b[K\n",
            "remote: Compressing objects:   7% (1/14)\u001b[K\rremote: Compressing objects:  14% (2/14)\u001b[K\rremote: Compressing objects:  21% (3/14)\u001b[K\rremote: Compressing objects:  28% (4/14)\u001b[K\rremote: Compressing objects:  35% (5/14)\u001b[K\rremote: Compressing objects:  42% (6/14)\u001b[K\rremote: Compressing objects:  50% (7/14)\u001b[K\rremote: Compressing objects:  57% (8/14)\u001b[K\rremote: Compressing objects:  64% (9/14)\u001b[K\rremote: Compressing objects:  71% (10/14)\u001b[K\rremote: Compressing objects:  78% (11/14)\u001b[K\rremote: Compressing objects:  85% (12/14)\u001b[K\rremote: Compressing objects:  92% (13/14)\u001b[K\rremote: Compressing objects: 100% (14/14)\u001b[K\rremote: Compressing objects: 100% (14/14), done.\u001b[K\n",
            "remote: Total 15 (delta 3), reused 3 (delta 0), pack-reused 0 (from 0)\u001b[K\n",
            "Receiving objects:   6% (1/15)\rReceiving objects:  13% (2/15)\rReceiving objects:  20% (3/15)\rReceiving objects:  26% (4/15)\rReceiving objects:  33% (5/15)\rReceiving objects:  40% (6/15)\rReceiving objects:  46% (7/15)\rReceiving objects:  53% (8/15)\rReceiving objects:  60% (9/15)\rReceiving objects:  66% (10/15)\rReceiving objects:  73% (11/15)\rReceiving objects:  80% (12/15)\rReceiving objects:  86% (13/15)\rReceiving objects:  93% (14/15)\rReceiving objects: 100% (15/15)\rReceiving objects: 100% (15/15), 4.65 KiB | 4.65 MiB/s, done.\n",
            "Resolving deltas:   0% (0/3)\rResolving deltas:  33% (1/3)\rResolving deltas:  66% (2/3)\rResolving deltas: 100% (3/3)\rResolving deltas: 100% (3/3), done.\n"
          ]
        }
      ],
      "source": [
        "!git clone https://github.com/adkta/nepali_arabic_num_to_word.git"
      ]
    },
    {
      "cell_type": "markdown",
      "source": [
        "##ADD TRANSLITERATION DICTIONARY\n",
        "Only for new transcripts"
      ],
      "metadata": {
        "id": "MSmMWBhTJyAN"
      }
    },
    {
      "cell_type": "code",
      "source": [
        "!ls /content/drive/MyDrive/MSICE/Predetermined_CS_Texts/"
      ],
      "metadata": {
        "colab": {
          "base_uri": "https://localhost:8080/"
        },
        "id": "FrhdsFP-KiAi",
        "outputId": "60d221ee-3bde-4fb1-989a-8345da22be5e"
      },
      "execution_count": 6,
      "outputs": [
        {
          "output_type": "stream",
          "name": "stdout",
          "text": [
            "'Predetermined Texts.gdoc'   To_Send_Predetermined_Code-mixed_Texts_native.txt\n"
          ]
        }
      ]
    },
    {
      "cell_type": "code",
      "source": [
        "from transliteration.transliterator import TranslitDict\n",
        "from transliteration.transliterators import RomanToDevaTransliterator\n",
        "\n",
        "current_translit_dict = TranslitDict.load(src_path = '/content/drive/MyDrive/MSICE/English_Nepali_CS_Data_Manual/Transliteration Dictionary/Roman_Devanagari_Translit_Dict.json')\n",
        "translitr = RomanToDevaTransliterator(translit_dict = current_translit_dict)\n",
        "add_translit_dict = TranslitDict.create(transcr_src = '/content/drive/MyDrive/MSICE/Predetermined_CS_Texts/To_Send_Predetermined_Code-mixed_Texts_native.txt', translitr = translitr)"
      ],
      "metadata": {
        "colab": {
          "base_uri": "https://localhost:8080/"
        },
        "id": "CVIxJYy4J1y0",
        "outputId": "77adaaae-e107-4496-c02c-c12918f257da"
      },
      "execution_count": 10,
      "outputs": [
        {
          "output_type": "stream",
          "name": "stderr",
          "text": [
            "INFO:transliteration:Extracting dictionary from file: /content/drive/MyDrive/MSICE/Predetermined_CS_Texts/To_Send_Predetermined_Code-mixed_Texts_native.txt...\n",
            "Extracting dictionary from file: /content/drive/MyDrive/MSICE/Predetermined_CS_Texts/To_Send_Predetermined_Code-mixed_Texts_native.txt: 79it [01:10,  1.12it/s]\n"
          ]
        }
      ]
    },
    {
      "cell_type": "code",
      "source": [
        "print(f\"Current Dict Length: {len(current_translit_dict)}\\nAdd Dict Length: {len(add_translit_dict)}\")"
      ],
      "metadata": {
        "colab": {
          "base_uri": "https://localhost:8080/"
        },
        "id": "OXsJhEk3M0Sr",
        "outputId": "e314ebb1-7e6f-4b63-d12b-a2a92779613b"
      },
      "execution_count": 14,
      "outputs": [
        {
          "output_type": "stream",
          "name": "stdout",
          "text": [
            "Current Dict Length: 1354\n",
            "Add Dict Length: 130\n"
          ]
        }
      ]
    },
    {
      "cell_type": "code",
      "source": [
        "current_translit_dict.update(add_translit_dict)"
      ],
      "metadata": {
        "id": "oqO4cMLEMwTT"
      },
      "execution_count": 15,
      "outputs": []
    },
    {
      "cell_type": "code",
      "source": [
        "print(f\"New Dict Length: {len(current_translit_dict)}\")"
      ],
      "metadata": {
        "colab": {
          "base_uri": "https://localhost:8080/"
        },
        "id": "7uPaRH9qNFTI",
        "outputId": "91b5c9d7-b36e-43f9-89d5-a4b05cefd0d4"
      },
      "execution_count": 16,
      "outputs": [
        {
          "output_type": "stream",
          "name": "stdout",
          "text": [
            "New Dict Length: 1427\n"
          ]
        }
      ]
    },
    {
      "cell_type": "code",
      "source": [
        "current_translit_dict.export_to_json('/content/Roman_Devanagari_Translit_Dict.json')"
      ],
      "metadata": {
        "id": "AfTH8ylyNJRq"
      },
      "execution_count": 17,
      "outputs": []
    },
    {
      "cell_type": "code",
      "source": [
        "!cp /content/Roman_Devanagari_Translit_Dict.json /content/drive/MyDrive/MSICE/English_Nepali_CS_Data_Manual/Transliteration\\ Dictionary/"
      ],
      "metadata": {
        "id": "0lftKhMTNSKI"
      },
      "execution_count": 18,
      "outputs": []
    },
    {
      "cell_type": "markdown",
      "source": [
        "##GENERAL TRANSFORM LOGIC"
      ],
      "metadata": {
        "id": "Yw6SkpmSJl9c"
      }
    },
    {
      "cell_type": "code",
      "source": [
        "from typing import Callable\n",
        "\n",
        "import re\n",
        "from transliteration.transliterator import TranslitDict\n",
        "\n",
        "\n",
        "def transform_transcript(input_path: str, output_path: str, transform_fn: Callable[[str], str]) -> None:\n",
        "    tknzr_pattern = re.compile(TranslitDict.PUNCT_SPACE_REGEX)\n",
        "    with open(input_path, mode = 'r') as transcr_in, \\\n",
        "        open(output_path, mode = 'w') as transcr_out:\n",
        "        for line in transcr_in:\n",
        "            line = line.strip()\n",
        "            audio_nm, label = line.split('\\t')\n",
        "            words = tknzr_pattern.split(label)\n",
        "            numless_native_label = []\n",
        "            for word in words:\n",
        "                if not word:\n",
        "                    continue\n",
        "                numless_native_label.append(transform_fn(word))\n",
        "            print(f\"{audio_nm}\\t{' '.join(numless_native_label)}\", file=transcr_out)"
      ],
      "metadata": {
        "id": "eeXN-Ry8HlNB"
      },
      "execution_count": 19,
      "outputs": []
    },
    {
      "cell_type": "markdown",
      "metadata": {
        "id": "WjMNZL_Zo-Ew"
      },
      "source": [
        "##ORIGINAL NUMLESS TRANSCRIPT\n",
        "\n",
        "1. Input original native transcript: /content/transcript.txt\n",
        "2. Output is unpunctuated numberless native transcript. /content/native_numless_punctless_transcript.txt\n",
        "\n",
        "i.e. All numerals are written in words"
      ]
    },
    {
      "cell_type": "code",
      "execution_count": null,
      "metadata": {
        "id": "H6qPIlklVAAz"
      },
      "outputs": [],
      "source": [
        "!cp '/content/drive/MyDrive/MSICE/native_augmented_transcript.txt' /content/"
      ]
    },
    {
      "cell_type": "code",
      "source": [
        "from nepali_arabic_num_to_word.nepali_arabic_num_to_word import numeral_type, get_word_from_numeral\n",
        "\n",
        "def num_2_word(word: str) -> str:\n",
        "    num_type = numeral_type(word)\n",
        "    if numeral_type:\n",
        "        word = get_word_from_numeral(word, num_type)\n",
        "    return word"
      ],
      "metadata": {
        "id": "2hVkFuohG9Go"
      },
      "execution_count": 21,
      "outputs": []
    },
    {
      "cell_type": "code",
      "source": [
        "# transform_transcript(input_path = \"/content/native_augmented_transcript.txt\", output_path = \"/content/native_augmented_numless_punctless_transcript.txt\", transform_fn = num_2_word)\n",
        "transform_transcript(input_path = \"/content/transcript-2.txt\", output_path = \"/content/native_augmented_numless_punctless_transcript.txt\", transform_fn = num_2_word)"
      ],
      "metadata": {
        "id": "8wfTKwe0HsX8"
      },
      "execution_count": 23,
      "outputs": []
    },
    {
      "cell_type": "code",
      "execution_count": 25,
      "metadata": {
        "id": "PtKXVOG9LOgs",
        "colab": {
          "base_uri": "https://localhost:8080/"
        },
        "outputId": "16fc724e-461b-46f6-a216-c7bbb488707f"
      },
      "outputs": [
        {
          "output_type": "stream",
          "name": "stdout",
          "text": [
            "PT_Ashish_Devkota_audio_1\tसरकारी school हरुमा पढ्नेहरु back नलागिकनै continue regular college level मा pass गर्दै गईराको छ\n",
            "PT_Ashish_Devkota_audio_2\tprivate को students हरुले pass गर्न सकेन भन्न खोजेको होइन\n",
            "PT_Ashish_Devkota_audio_3\tyoung generations हरुको लागि English एकदम important छ\n",
            "PT_Ashish_Devkota_audio_4\tEven नेपाली subject पढाउने teachers हरु पनि motivation create गर्न बिचमा अंग्रेजी शब्दहरु प्रयोग गर्नुहुन्छ\n",
            "PT_Ashish_Devkota_audio_5\tदिपिका जी तपाई inspiration प्रेरणाको source हुनुहुन्छ\n",
            "PT_Ashish_Devkota_audio_6\tसरकार even prime minister पनि विकासको लागि budget थुप्रै छ भन्छ\n",
            "PT_Ashish_Devkota_audio_7\tतर NIST को plus two chain बिस्तारै अलि खस्किँदै जस्तो लागेको छ मलाई त\n",
            "PT_Ashish_Devkota_audio_8\tMG Sir त बिन्दास अहिले त total transformation हुनुभाछ नि पहिले त अलि strict हुनुहुन्थ्यो\n",
            "PT_Ashish_Devkota_audio_9\tDubai को लागि भनेर Bahrain को लागि त vacancy नै छैन\n",
            "PT_Ashish_Devkota_audio_10\tClients हरुले पुरै website visit नगरेसम्म हाम्रो कामको बारे थाहा हुँदैन\n",
            "PT_Ashish_Devkota_audio_11\tEnglish use गर्नमा को सँग communication गरिराखेको छु त्यसमा depend गर्छ\n",
            "PT_Ashish_Devkota_audio_12\tmedia ले बढी highlight गर्दापनि हो जस्तो लाग्छ । media मा पनि English को प्रयोग हुन्छ ।\n",
            "PT_Ashish_Devkota_audio_13\tfifty percent English र fifty percent Nepali को use गर्छ\n",
            "PT_Ashish_Devkota_audio_14\tआफ्नो learning attitude प्रतिको respect हो जब हामी त्यसरी respect गर्छौँ हाम्रो learning पनि perfect हुन्छ\n",
            "PT_Ashish_Devkota_audio_15\tनिर्मला दिदी सँग add ऐ गरेको छैन\n",
            "PT_Ashish_Devkota_audio_16\tत्यही त मलाई problem भनेको बच्चालाई school मा drop गर्नुपर्ने त्यसले पनि मेरो time consume गरिराछ ।\n",
            "PT_Ashish_Devkota_audio_17\tयो राम्रो develop हुन्थ्यो\n",
            "PT_Ashish_Devkota_audio_18\tenglish को knowledge ले नै अहिलेसम्म ठुलो support भइराखेको छ हाम्रो business internationally link भाको ले\n",
            "PT_Ashish_Devkota_audio_19\tजुनसुकै postमा गए पनि training हुन्छ tension-ai लिनुपर्दैन नि\n",
            "PT_Ashish_Devkota_audio_20\tNGO INGOs हरु सँग connection राख्नुपर्दा relation बढाउनुपर्दा English use हुन्छ\n"
          ]
        }
      ],
      "source": [
        "!head -20 native_augmented_numless_punctless_transcript.txt"
      ]
    },
    {
      "cell_type": "markdown",
      "metadata": {
        "id": "Ex879E4mpC6G"
      },
      "source": [
        "##ADD REDUCTION DICTIONARY (COMBINES TRANSLITERATION AND REDUCTION)\n",
        "\n",
        "TASK 1: Create a reduction dictionary\n",
        "The input to this task is numberless native transcript file\n",
        "Output is a reduction dictionary\n",
        "\n",
        "TASK 2: Create a reduced transcript file\n",
        "The input is numberless native transcript file and reduction dictionary (if possible so the mapping can be reused)\n",
        "Output is reduced transcript file"
      ]
    },
    {
      "cell_type": "code",
      "source": [
        "# !cp '/content/drive/MyDrive/MSICE/English_Nepali_CS_Data_Manual/Transliteration Dictionary/Roman_Devanagari_Translit_Dict.json' /content/"
      ],
      "metadata": {
        "id": "eXqhCPiYw9Iy"
      },
      "execution_count": null,
      "outputs": []
    },
    {
      "cell_type": "code",
      "execution_count": null,
      "metadata": {
        "id": "MmXcvEwI3Wtd",
        "colab": {
          "base_uri": "https://localhost:8080/"
        },
        "outputId": "d3e6c1f5-b1d7-4980-e9dd-d0dcf065325e"
      },
      "outputs": [
        {
          "output_type": "stream",
          "name": "stdout",
          "text": [
            "head: cannot open '/content/native_numless_punctless_transcript.txt' for reading: No such file or directory\n"
          ]
        }
      ],
      "source": [
        "!head -4 /content/native_numless_punctless_transcript.txt > /content/test_transcript.txt"
      ]
    },
    {
      "cell_type": "code",
      "source": [
        "!head -4 /content/test_transcript.txt"
      ],
      "metadata": {
        "id": "bCoLcpvd-j3A"
      },
      "execution_count": null,
      "outputs": []
    },
    {
      "cell_type": "code",
      "execution_count": 38,
      "metadata": {
        "id": "7zRb5Zyq3EPo"
      },
      "outputs": [],
      "source": [
        "from transliteration.transliterator import TranslitDict\n",
        "from transliteration.reducers import get_reduced_devanagari_word\n",
        "from transliteration.transliterators import RomanToDevaTransliterator\n",
        "from tqdm import tqdm\n",
        "from typing import Optional\n",
        "\n",
        "import re\n",
        "\n",
        "def create_reduc_dict(input_path: str, output_path: str, translit_dict_path: Optional[str] = None) -> None:\n",
        "    tknzr_pattern = re.compile(TranslitDict.PUNCT_SPACE_REGEX)\n",
        "    if translit_dict_path:\n",
        "        translitr = RomanToDevaTransliterator(translit_dict = translit_dict_path)\n",
        "    else:\n",
        "        translitr = RomanToDevaTransliterator()\n",
        "\n",
        "    with open(input_path, mode = 'r') as transcr_in, \\\n",
        "        open(output_path, mode = 'w') as transcr_out:\n",
        "        for line in tqdm(transcr_in):\n",
        "            line = line.strip()\n",
        "            audio_nm, label = line.split('\\t')\n",
        "            words = tknzr_pattern.split(label)\n",
        "            numless_native_label = []\n",
        "            for word in words:\n",
        "                if not word:\n",
        "                    continue\n",
        "\n",
        "                orig_word = word\n",
        "                if translitr.for_transliteration(word):\n",
        "                    word = translitr.translit(word)\n",
        "                reduced_word = get_reduced_devanagari_word(word)\n",
        "\n",
        "                if not reduced_word or reduced_word == orig_word:\n",
        "                    continue\n",
        "\n",
        "                print(f\"{orig_word}\\t{reduced_word}\", file=transcr_out)"
      ]
    },
    {
      "cell_type": "code",
      "source": [
        "# Without transliteration dictionary file (A little slow)\n",
        "# create_reduc_dict(input_path = \"/content/native_augmented_numless_punctless_transcript.txt\", output_path = \"/content/test_reduc_dict.dat\")\n",
        "# With transiteration dictionary file (Faster)\n",
        "# create_reduc_dict(input_path = \"/content/native_augmented_numless_punctless_transcript.txt\", output_path = \"/content/test_reduc_dict.dat\", translit_dict_path = \"/content/Roman_Devanagari_Translit_Dict.json\")"
      ],
      "metadata": {
        "id": "L7jcP5KVtgnN",
        "colab": {
          "base_uri": "https://localhost:8080/"
        },
        "outputId": "0f1c7cad-2a52-433b-d627-3d04f5641377"
      },
      "execution_count": 39,
      "outputs": [
        {
          "output_type": "stream",
          "name": "stderr",
          "text": [
            "40it [00:00, 5969.26it/s]\n"
          ]
        }
      ]
    },
    {
      "cell_type": "code",
      "source": [
        "!cp /content/drive/MyDrive/MSICE/English_Nepali_CS_Data_Manual/Transliteration\\ Dictionary/Nep_Eng_Code-Mixed_Reduct_Dict.json /content/"
      ],
      "metadata": {
        "id": "S58z9E9zY-pK"
      },
      "execution_count": 29,
      "outputs": []
    },
    {
      "cell_type": "code",
      "source": [
        "current_reduc_dict = TranslitDict.load(src_path = '/content/Nep_Eng_Code-Mixed_Reduct_Dict.json')"
      ],
      "metadata": {
        "id": "yqZTMdjhZIL1"
      },
      "execution_count": 30,
      "outputs": []
    },
    {
      "cell_type": "code",
      "execution_count": 40,
      "metadata": {
        "id": "C8KoJRsRV7hP"
      },
      "outputs": [],
      "source": [
        "test_reduc_dict = TranslitDict.load(src_path='/content/test_reduc_dict.dat', delimiter='\\t')"
      ]
    },
    {
      "cell_type": "code",
      "source": [
        "print(f\"Current Reduction Dict Length: {len(current_reduc_dict)}\\nAdd Reduction Dict Length: {len(test_reduc_dict)}\")"
      ],
      "metadata": {
        "colab": {
          "base_uri": "https://localhost:8080/"
        },
        "id": "No6rgDSEZSlH",
        "outputId": "2af86a53-ed08-4fba-95b5-7fba89c07572"
      },
      "execution_count": 41,
      "outputs": [
        {
          "output_type": "stream",
          "name": "stdout",
          "text": [
            "Current Reduction Dict Length: 1798\n",
            "Add Reduction Dict Length: 174\n"
          ]
        }
      ]
    },
    {
      "cell_type": "code",
      "source": [
        "current_reduc_dict.update(test_reduc_dict)"
      ],
      "metadata": {
        "id": "pY4TaGAlZWfR"
      },
      "execution_count": 42,
      "outputs": []
    },
    {
      "cell_type": "code",
      "source": [
        "print(f\"New Reduction Dict Length: {len(current_reduc_dict)} \")"
      ],
      "metadata": {
        "colab": {
          "base_uri": "https://localhost:8080/"
        },
        "id": "V4Uoe1SjZZnn",
        "outputId": "4c80c5b2-ebab-435b-ca57-85b6a3bf1caa"
      },
      "execution_count": 43,
      "outputs": [
        {
          "output_type": "stream",
          "name": "stdout",
          "text": [
            "New Reduction Dict Length: 1798 \n"
          ]
        }
      ]
    },
    {
      "cell_type": "code",
      "source": [
        "current_reduc_dict.export('/content/Nep_Eng_Code-Mixed_Reduct_Dict.json')"
      ],
      "metadata": {
        "id": "hq95sUuD_ogm"
      },
      "execution_count": 36,
      "outputs": []
    },
    {
      "cell_type": "code",
      "source": [
        "!cp  /content/Nep_Eng_Code-Mixed_Reduct_Dict.json '/content/drive/MyDrive/MSICE/English_Nepali_CS_Data_Manual/Transliteration Dictionary/'"
      ],
      "metadata": {
        "id": "dkn7xR3fAH6-"
      },
      "execution_count": 37,
      "outputs": []
    },
    {
      "cell_type": "markdown",
      "source": [
        "##CREATE REDUCED TRANSCRIPT FILE\n",
        "\n",
        "1. Inputs are transcript file, reduction dictionary\n",
        "2. Output is reduced transcript file"
      ],
      "metadata": {
        "id": "R0CSyL0vGFr2"
      }
    },
    {
      "cell_type": "code",
      "source": [
        "# !cp /content/transliteration/reducers.py /content/"
      ],
      "metadata": {
        "id": "rPBLTdJAGJSm"
      },
      "execution_count": null,
      "outputs": []
    },
    {
      "cell_type": "code",
      "source": [
        "!cp /content/drive/MyDrive/MSICE/English_Nepali_CS_Data_Manual/Transliteration\\ Dictionary/Nep_Eng_Code-Mixed_Reduct_Dict.json /content/"
      ],
      "metadata": {
        "id": "OHMix2QcMRnt"
      },
      "execution_count": null,
      "outputs": []
    },
    {
      "cell_type": "code",
      "source": [
        "reduc_dict = TranslitDict.load(src_path = '/content/Nep_Eng_Code-Mixed_Reduct_Dict.json')\n",
        "def reduce(word: str) -> str:\n",
        "    reduced_word = reduc_dict.get(word)\n",
        "    if reduced_word:\n",
        "        return reduced_word\n",
        "    return word"
      ],
      "metadata": {
        "id": "tprKcr46J4ZY"
      },
      "execution_count": null,
      "outputs": []
    },
    {
      "cell_type": "code",
      "source": [
        "transform_transcript(input_path = \"/content/native_augmented_numless_punctless_transcript.txt\", output_path = \"/content/reduced_transcript.txt\", transform_fn = reduce)"
      ],
      "metadata": {
        "id": "K1RTEbE9MQrb"
      },
      "execution_count": null,
      "outputs": []
    },
    {
      "cell_type": "code",
      "source": [
        "!head -10 reduced_transcript.txt"
      ],
      "metadata": {
        "id": "hODihR3VrGFO",
        "outputId": "631a22c9-60e7-4af9-e700-d4af3d358507",
        "colab": {
          "base_uri": "https://localhost:8080/"
        }
      },
      "execution_count": null,
      "outputs": [
        {
          "output_type": "stream",
          "name": "stdout",
          "text": [
            "SS_Dr_Sanjay_Sharma_2_audio_1\tएकदम धैरै हुने भाको भएरपनि अम स्टटिस्टिकलि हुन्छ अम त्यो पनि हुन्छ\n",
            "SS_Dr_Sanjay_Sharma_2_ps_audio_1\tएकदम धैरै हुने भाको भएरपनि अम स्टटिस्टिकलि हुन्छ अम त्यो पनि हुन्छ\n",
            "SS_Dr_Sanjay_Sharma_2_n_audio_1\tएकदम धैरै हुने भाको भएरपनि अम स्टटिस्टिकलि हुन्छ अम त्यो पनि हुन्छ\n",
            "SS_Dr_Sanjay_Sharma_2_wn_audio_1\tएकदम धैरै हुने भाको भएरपनि अम स्टटिस्टिकलि हुन्छ अम त्यो पनि हुन्छ\n",
            "SS_Dr_Sanjay_Sharma_2_rr_audio_1\tएकदम धैरै हुने भाको भएरपनि अम स्टटिस्टिकलि हुन्छ अम त्यो पनि हुन्छ\n",
            "SS_Dr_Sanjay_Sharma_2_sp_audio_1\tएकदम धैरै हुने भाको भएरपनि अम स्टटिस्टिकलि हुन्छ अम त्यो पनि हुन्छ\n",
            "SS_Dr_Sanjay_Sharma_2_lpf_audio_1\tएकदम धैरै हुने भाको भएरपनि अम स्टटिस्टिकलि हुन्छ अम त्यो पनि हुन्छ\n",
            "SS_Dr_Sanjay_Sharma_2_audio_2\tनेपालमा पुल्सर् बाइक नै चोरि हुन्छ भनेर भन्ने एउटा नारटिव्ह बिकोज त्यहां मार्कट भरि पुल्सर् बाइक नै थियो त्यस्तै हो सोउ अम\n",
            "SS_Dr_Sanjay_Sharma_2_ps_audio_2\tनेपालमा पुल्सर् बाइक नै चोरि हुन्छ भनेर भन्ने एउटा नारटिव्ह बिकोज त्यहां मार्कट भरि पुल्सर् बाइक नै थियो त्यस्तै हो सोउ अम\n",
            "SS_Dr_Sanjay_Sharma_2_n_audio_2\tनेपालमा पुल्सर् बाइक नै चोरि हुन्छ भनेर भन्ने एउटा नारटिव्ह बिकोज त्यहां मार्कट भरि पुल्सर् बाइक नै थियो त्यस्तै हो सोउ अम\n"
          ]
        }
      ]
    }
  ],
  "metadata": {
    "colab": {
      "provenance": [],
      "collapsed_sections": [
        "OLyLc_ydQQOf",
        "MSmMWBhTJyAN",
        "Yw6SkpmSJl9c",
        "Ex879E4mpC6G",
        "R0CSyL0vGFr2"
      ],
      "authorship_tag": "ABX9TyOd2hYVmxGpcxeEg+A8V4VB"
    },
    "kernelspec": {
      "display_name": "Python 3",
      "name": "python3"
    },
    "language_info": {
      "name": "python"
    }
  },
  "nbformat": 4,
  "nbformat_minor": 0
}